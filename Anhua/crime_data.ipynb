{
 "cells": [
  {
   "cell_type": "code",
   "execution_count": 5,
   "metadata": {
    "collapsed": true
   },
   "outputs": [],
   "source": [
    "import pandas as pd\n",
    "import numpy as np"
   ]
  },
  {
   "cell_type": "code",
   "execution_count": 6,
   "metadata": {
    "collapsed": false
   },
   "outputs": [],
   "source": [
    "\n",
    "yrs_lst = [ 2011, 2012, 2013, 2014]\n",
    "df_crime = pd.read_csv(\"./crime_data/crime_2010/crime_2010.tsv\", sep='\\t')\n",
    "df_crime = df_crime.loc[:,[\"FIPS_ST\", \"FIPS_CTY\", \"CPOPCRIM\", \"VIOL\", \"PROPERTY\"]]\n",
    "df_crime[\"crime_rate_\" + str(2010)] = (df_crime.VIOL + df_crime.PROPERTY) / df_crime.CPOPCRIM\n",
    "df_crime = df_crime.drop([\"CPOPCRIM\", \"VIOL\", \"PROPERTY\"], axis = 1)\n",
    "\n",
    "\n",
    "for yr in yrs_lst:\n",
    "    df_new = pd.read_csv(\"./crime_data/crime_\" + str(yr) + \"/crime_\" + str(yr) + \".tsv\", sep='\\t')\n",
    "    df_new = df_new.loc[:,[\"FIPS_ST\", \"FIPS_CTY\", \"CPOPCRIM\", \"VIOL\", \"PROPERTY\"]]\n",
    "    df_new[\"crime_rate_\" + str(yr)] = (df_new.VIOL + df_new.PROPERTY) / df_new.CPOPCRIM\n",
    "    df_new = df_new.drop([\"CPOPCRIM\", \"VIOL\", \"PROPERTY\"], axis = 1)\n",
    "    df_crime = pd.merge(df_crime, df_new, on = [\"FIPS_ST\", \"FIPS_CTY\"])\n",
    "\n",
    "df_crime = df_crime[~df_crime.isin([np.nan, np.inf, -np.inf]).any(1)]\n",
    "## Save cleaned crime rate data\n",
    "df_crime.to_csv(\"./crime_data/crime_data_clnd.csv\")"
   ]
  },
  {
   "cell_type": "code",
   "execution_count": 7,
   "metadata": {
    "collapsed": false
   },
   "outputs": [
    {
     "data": {
      "text/html": [
       "<div>\n",
       "<style>\n",
       "    .dataframe thead tr:only-child th {\n",
       "        text-align: right;\n",
       "    }\n",
       "\n",
       "    .dataframe thead th {\n",
       "        text-align: left;\n",
       "    }\n",
       "\n",
       "    .dataframe tbody tr th {\n",
       "        vertical-align: top;\n",
       "    }\n",
       "</style>\n",
       "<table border=\"1\" class=\"dataframe\">\n",
       "  <thead>\n",
       "    <tr style=\"text-align: right;\">\n",
       "      <th></th>\n",
       "      <th>FIPS_ST</th>\n",
       "      <th>FIPS_CTY</th>\n",
       "      <th>crime_rate_2010</th>\n",
       "      <th>crime_rate_2011</th>\n",
       "      <th>crime_rate_2012</th>\n",
       "      <th>crime_rate_2013</th>\n",
       "      <th>crime_rate_2014</th>\n",
       "    </tr>\n",
       "  </thead>\n",
       "  <tbody>\n",
       "    <tr>\n",
       "      <th>0</th>\n",
       "      <td>1</td>\n",
       "      <td>1</td>\n",
       "      <td>0.030492</td>\n",
       "      <td>0.033410</td>\n",
       "      <td>0.034869</td>\n",
       "      <td>0.033144</td>\n",
       "      <td>0.032412</td>\n",
       "    </tr>\n",
       "    <tr>\n",
       "      <th>1</th>\n",
       "      <td>1</td>\n",
       "      <td>3</td>\n",
       "      <td>0.024942</td>\n",
       "      <td>0.028765</td>\n",
       "      <td>0.028986</td>\n",
       "      <td>0.027193</td>\n",
       "      <td>0.022959</td>\n",
       "    </tr>\n",
       "    <tr>\n",
       "      <th>2</th>\n",
       "      <td>1</td>\n",
       "      <td>5</td>\n",
       "      <td>0.017661</td>\n",
       "      <td>0.027475</td>\n",
       "      <td>0.020418</td>\n",
       "      <td>0.029142</td>\n",
       "      <td>0.030095</td>\n",
       "    </tr>\n",
       "    <tr>\n",
       "      <th>3</th>\n",
       "      <td>1</td>\n",
       "      <td>7</td>\n",
       "      <td>0.020380</td>\n",
       "      <td>0.027516</td>\n",
       "      <td>0.019600</td>\n",
       "      <td>0.013909</td>\n",
       "      <td>0.011806</td>\n",
       "    </tr>\n",
       "    <tr>\n",
       "      <th>4</th>\n",
       "      <td>1</td>\n",
       "      <td>9</td>\n",
       "      <td>0.005740</td>\n",
       "      <td>0.024532</td>\n",
       "      <td>0.025367</td>\n",
       "      <td>0.024841</td>\n",
       "      <td>0.024036</td>\n",
       "    </tr>\n",
       "  </tbody>\n",
       "</table>\n",
       "</div>"
      ],
      "text/plain": [
       "   FIPS_ST  FIPS_CTY  crime_rate_2010  crime_rate_2011  crime_rate_2012  \\\n",
       "0        1         1         0.030492         0.033410         0.034869   \n",
       "1        1         3         0.024942         0.028765         0.028986   \n",
       "2        1         5         0.017661         0.027475         0.020418   \n",
       "3        1         7         0.020380         0.027516         0.019600   \n",
       "4        1         9         0.005740         0.024532         0.025367   \n",
       "\n",
       "   crime_rate_2013  crime_rate_2014  \n",
       "0         0.033144         0.032412  \n",
       "1         0.027193         0.022959  \n",
       "2         0.029142         0.030095  \n",
       "3         0.013909         0.011806  \n",
       "4         0.024841         0.024036  "
      ]
     },
     "execution_count": 7,
     "metadata": {},
     "output_type": "execute_result"
    }
   ],
   "source": [
    "df_crime.head()"
   ]
  },
  {
   "cell_type": "code",
   "execution_count": null,
   "metadata": {
    "collapsed": false
   },
   "outputs": [],
   "source": []
  }
 ],
 "metadata": {
  "kernelspec": {
   "display_name": "Python 3",
   "language": "python",
   "name": "python3"
  },
  "language_info": {
   "codemirror_mode": {
    "name": "ipython",
    "version": 3
   },
   "file_extension": ".py",
   "mimetype": "text/x-python",
   "name": "python",
   "nbconvert_exporter": "python",
   "pygments_lexer": "ipython3",
   "version": "3.6.0"
  }
 },
 "nbformat": 4,
 "nbformat_minor": 2
}
